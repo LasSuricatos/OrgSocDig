{
 "cells": [
  {
   "cell_type": "code",
   "execution_count": 2,
   "metadata": {},
   "outputs": [
    {
     "data": {
      "text/html": [
       "<div>\n",
       "<style scoped>\n",
       "    .dataframe tbody tr th:only-of-type {\n",
       "        vertical-align: middle;\n",
       "    }\n",
       "\n",
       "    .dataframe tbody tr th {\n",
       "        vertical-align: top;\n",
       "    }\n",
       "\n",
       "    .dataframe thead th {\n",
       "        text-align: right;\n",
       "    }\n",
       "</style>\n",
       "<table border=\"1\" class=\"dataframe\">\n",
       "  <thead>\n",
       "    <tr style=\"text-align: right;\">\n",
       "      <th></th>\n",
       "      <th>Tipo-Zone</th>\n",
       "      <th>Id Sensore</th>\n",
       "      <th>Data-Ora</th>\n",
       "      <th>Valore Cumulato</th>\n",
       "    </tr>\n",
       "  </thead>\n",
       "  <tbody>\n",
       "    <tr>\n",
       "      <th>0</th>\n",
       "      <td>Brera</td>\n",
       "      <td>19373</td>\n",
       "      <td>01/01/2018 00:00</td>\n",
       "      <td>0.2</td>\n",
       "    </tr>\n",
       "    <tr>\n",
       "      <th>1</th>\n",
       "      <td>Juvara</td>\n",
       "      <td>5908</td>\n",
       "      <td>01/01/2018 00:00</td>\n",
       "      <td>0.0</td>\n",
       "    </tr>\n",
       "    <tr>\n",
       "      <th>2</th>\n",
       "      <td>Lambrate</td>\n",
       "      <td>2006</td>\n",
       "      <td>01/01/2018 00:00</td>\n",
       "      <td>0.0</td>\n",
       "    </tr>\n",
       "    <tr>\n",
       "      <th>3</th>\n",
       "      <td>Zavattari</td>\n",
       "      <td>9341</td>\n",
       "      <td>01/01/2018 00:00</td>\n",
       "      <td>0.4</td>\n",
       "    </tr>\n",
       "    <tr>\n",
       "      <th>4</th>\n",
       "      <td>Rosellini</td>\n",
       "      <td>14121</td>\n",
       "      <td>01/01/2018 00:00</td>\n",
       "      <td>0.0</td>\n",
       "    </tr>\n",
       "    <tr>\n",
       "      <th>...</th>\n",
       "      <td>...</td>\n",
       "      <td>...</td>\n",
       "      <td>...</td>\n",
       "      <td>...</td>\n",
       "    </tr>\n",
       "    <tr>\n",
       "      <th>43680</th>\n",
       "      <td>Brera</td>\n",
       "      <td>19373</td>\n",
       "      <td>31/12/2018 00:00</td>\n",
       "      <td>0.0</td>\n",
       "    </tr>\n",
       "    <tr>\n",
       "      <th>43681</th>\n",
       "      <td>Juvara</td>\n",
       "      <td>5908</td>\n",
       "      <td>31/12/2018 00:00</td>\n",
       "      <td>0.0</td>\n",
       "    </tr>\n",
       "    <tr>\n",
       "      <th>43682</th>\n",
       "      <td>Lambrate</td>\n",
       "      <td>2006</td>\n",
       "      <td>31/12/2018 00:00</td>\n",
       "      <td>0.0</td>\n",
       "    </tr>\n",
       "    <tr>\n",
       "      <th>43683</th>\n",
       "      <td>Zavattari</td>\n",
       "      <td>9341</td>\n",
       "      <td>31/12/2018 00:00</td>\n",
       "      <td>0.0</td>\n",
       "    </tr>\n",
       "    <tr>\n",
       "      <th>43684</th>\n",
       "      <td>Rosellini</td>\n",
       "      <td>14121</td>\n",
       "      <td>31/12/2018 00:00</td>\n",
       "      <td>0.0</td>\n",
       "    </tr>\n",
       "  </tbody>\n",
       "</table>\n",
       "<p>43685 rows × 4 columns</p>\n",
       "</div>"
      ],
      "text/plain": [
       "       Tipo-Zone  Id Sensore          Data-Ora  Valore Cumulato\n",
       "0          Brera       19373  01/01/2018 00:00              0.2\n",
       "1         Juvara        5908  01/01/2018 00:00              0.0\n",
       "2       Lambrate        2006  01/01/2018 00:00              0.0\n",
       "3      Zavattari        9341  01/01/2018 00:00              0.4\n",
       "4      Rosellini       14121  01/01/2018 00:00              0.0\n",
       "...          ...         ...               ...              ...\n",
       "43680      Brera       19373  31/12/2018 00:00              0.0\n",
       "43681     Juvara        5908  31/12/2018 00:00              0.0\n",
       "43682   Lambrate        2006  31/12/2018 00:00              0.0\n",
       "43683  Zavattari        9341  31/12/2018 00:00              0.0\n",
       "43684  Rosellini       14121  31/12/2018 00:00              0.0\n",
       "\n",
       "[43685 rows x 4 columns]"
      ]
     },
     "execution_count": 2,
     "metadata": {},
     "output_type": "execute_result"
    }
   ],
   "source": [
    "import numpy as np\n",
    "import pandas as pd\n",
    "\n",
    "#Dataset dagli Open Data del Comune di Milano\n",
    "# https://dati.comune.milano.it/dataset/ds685-rilevazione-ambientali-sulle-precipitazioni-2018\n",
    "precip = pd.read_csv('../data/precipitazioni.csv', sep=\";\")\n",
    "precip"
   ]
  },
  {
   "cell_type": "markdown",
   "metadata": {},
   "source": [
    "Rinomino le colonne per avere nomi piu' corti e senza spazi"
   ]
  },
  {
   "cell_type": "code",
   "execution_count": 3,
   "metadata": {},
   "outputs": [
    {
     "data": {
      "text/html": [
       "<div>\n",
       "<style scoped>\n",
       "    .dataframe tbody tr th:only-of-type {\n",
       "        vertical-align: middle;\n",
       "    }\n",
       "\n",
       "    .dataframe tbody tr th {\n",
       "        vertical-align: top;\n",
       "    }\n",
       "\n",
       "    .dataframe thead th {\n",
       "        text-align: right;\n",
       "    }\n",
       "</style>\n",
       "<table border=\"1\" class=\"dataframe\">\n",
       "  <thead>\n",
       "    <tr style=\"text-align: right;\">\n",
       "      <th></th>\n",
       "      <th>zone</th>\n",
       "      <th>id</th>\n",
       "      <th>data</th>\n",
       "      <th>valore</th>\n",
       "    </tr>\n",
       "  </thead>\n",
       "  <tbody>\n",
       "    <tr>\n",
       "      <th>0</th>\n",
       "      <td>Brera</td>\n",
       "      <td>19373</td>\n",
       "      <td>01/01/2018 00:00</td>\n",
       "      <td>0.2</td>\n",
       "    </tr>\n",
       "    <tr>\n",
       "      <th>1</th>\n",
       "      <td>Juvara</td>\n",
       "      <td>5908</td>\n",
       "      <td>01/01/2018 00:00</td>\n",
       "      <td>0.0</td>\n",
       "    </tr>\n",
       "    <tr>\n",
       "      <th>2</th>\n",
       "      <td>Lambrate</td>\n",
       "      <td>2006</td>\n",
       "      <td>01/01/2018 00:00</td>\n",
       "      <td>0.0</td>\n",
       "    </tr>\n",
       "    <tr>\n",
       "      <th>3</th>\n",
       "      <td>Zavattari</td>\n",
       "      <td>9341</td>\n",
       "      <td>01/01/2018 00:00</td>\n",
       "      <td>0.4</td>\n",
       "    </tr>\n",
       "    <tr>\n",
       "      <th>4</th>\n",
       "      <td>Rosellini</td>\n",
       "      <td>14121</td>\n",
       "      <td>01/01/2018 00:00</td>\n",
       "      <td>0.0</td>\n",
       "    </tr>\n",
       "    <tr>\n",
       "      <th>...</th>\n",
       "      <td>...</td>\n",
       "      <td>...</td>\n",
       "      <td>...</td>\n",
       "      <td>...</td>\n",
       "    </tr>\n",
       "    <tr>\n",
       "      <th>43680</th>\n",
       "      <td>Brera</td>\n",
       "      <td>19373</td>\n",
       "      <td>31/12/2018 00:00</td>\n",
       "      <td>0.0</td>\n",
       "    </tr>\n",
       "    <tr>\n",
       "      <th>43681</th>\n",
       "      <td>Juvara</td>\n",
       "      <td>5908</td>\n",
       "      <td>31/12/2018 00:00</td>\n",
       "      <td>0.0</td>\n",
       "    </tr>\n",
       "    <tr>\n",
       "      <th>43682</th>\n",
       "      <td>Lambrate</td>\n",
       "      <td>2006</td>\n",
       "      <td>31/12/2018 00:00</td>\n",
       "      <td>0.0</td>\n",
       "    </tr>\n",
       "    <tr>\n",
       "      <th>43683</th>\n",
       "      <td>Zavattari</td>\n",
       "      <td>9341</td>\n",
       "      <td>31/12/2018 00:00</td>\n",
       "      <td>0.0</td>\n",
       "    </tr>\n",
       "    <tr>\n",
       "      <th>43684</th>\n",
       "      <td>Rosellini</td>\n",
       "      <td>14121</td>\n",
       "      <td>31/12/2018 00:00</td>\n",
       "      <td>0.0</td>\n",
       "    </tr>\n",
       "  </tbody>\n",
       "</table>\n",
       "<p>43685 rows × 4 columns</p>\n",
       "</div>"
      ],
      "text/plain": [
       "            zone     id              data  valore\n",
       "0          Brera  19373  01/01/2018 00:00     0.2\n",
       "1         Juvara   5908  01/01/2018 00:00     0.0\n",
       "2       Lambrate   2006  01/01/2018 00:00     0.0\n",
       "3      Zavattari   9341  01/01/2018 00:00     0.4\n",
       "4      Rosellini  14121  01/01/2018 00:00     0.0\n",
       "...          ...    ...               ...     ...\n",
       "43680      Brera  19373  31/12/2018 00:00     0.0\n",
       "43681     Juvara   5908  31/12/2018 00:00     0.0\n",
       "43682   Lambrate   2006  31/12/2018 00:00     0.0\n",
       "43683  Zavattari   9341  31/12/2018 00:00     0.0\n",
       "43684  Rosellini  14121  31/12/2018 00:00     0.0\n",
       "\n",
       "[43685 rows x 4 columns]"
      ]
     },
     "execution_count": 3,
     "metadata": {},
     "output_type": "execute_result"
    }
   ],
   "source": [
    "precip = precip.rename(columns={\"Tipo-Zone\":\"zone\",\"Id Sensore\": \"id\", \"Data-Ora\": \"data\", \"Valore Cumulato\":\"valore\"})\n",
    "precip"
   ]
  },
  {
   "cell_type": "markdown",
   "metadata": {},
   "source": [
    "Creo una mask di valori booleani (True/False) rispetto alla condizione se un certo giorno è stato piovoso o no"
   ]
  },
  {
   "cell_type": "code",
   "execution_count": 4,
   "metadata": {},
   "outputs": [],
   "source": [
    "pioggia = (precip.valore >0.0)"
   ]
  },
  {
   "cell_type": "code",
   "execution_count": 5,
   "metadata": {},
   "outputs": [
    {
     "data": {
      "text/plain": [
       "0         True\n",
       "1        False\n",
       "2        False\n",
       "3         True\n",
       "4        False\n",
       "         ...  \n",
       "43680    False\n",
       "43681    False\n",
       "43682    False\n",
       "43683    False\n",
       "43684    False\n",
       "Name: valore, Length: 43685, dtype: bool"
      ]
     },
     "execution_count": 5,
     "metadata": {},
     "output_type": "execute_result"
    }
   ],
   "source": [
    "pioggia"
   ]
  },
  {
   "cell_type": "markdown",
   "metadata": {},
   "source": [
    "Calcolo alcune statistiche su tutti i giorni del dataset.\n",
    "Domande: \n",
    "- Cosa vuol dire \"Median precip on all days in 2018:    nan\"?\n",
    "- Perché la mediana restituisce nan e invece la media ha un valore (0.1022...)?"
   ]
  },
  {
   "cell_type": "code",
   "execution_count": 6,
   "metadata": {},
   "outputs": [
    {
     "name": "stdout",
     "output_type": "stream",
     "text": [
      "Average precip on all days in 2018:    0.10222748155366658\n",
      "Median precip on all days in 2018:    nan\n",
      "Max precip on all days in 2018:    28.8\n",
      "Min precip on all days in 2018:    0.0\n"
     ]
    }
   ],
   "source": [
    "print(\"Average precip on all days in 2018:   \",\n",
    "      np.mean(precip.valore))\n",
    "print(\"Median precip on all days in 2018:   \",\n",
    "      np.median(precip.valore))\n",
    "print(\"Max precip on all days in 2018:   \",\n",
    "      np.max(precip.valore))\n",
    "print(\"Min precip on all days in 2018:   \",\n",
    "      np.min(precip.valore))"
   ]
  },
  {
   "cell_type": "markdown",
   "metadata": {},
   "source": [
    "Calcolo le stesse statistiche ma solo sui giorni di pioggia.\n",
    "Domanda:\n",
    "- Perché qui il calcolo della mediana ritorna 0.0 invece di nan come nel caso precedente?"
   ]
  },
  {
   "cell_type": "code",
   "execution_count": 7,
   "metadata": {},
   "outputs": [
    {
     "name": "stdout",
     "output_type": "stream",
     "text": [
      "Average precip on rainy days in 2018:    1.2523592950539857\n",
      "Median precip on rainy days in 2018:    0.6\n",
      "Max precip on rainy days in 2018:    28.8\n",
      "Min precip on rainy days in 2018:    0.2\n"
     ]
    }
   ],
   "source": [
    "print(\"Average precip on rainy days in 2018:   \",\n",
    "      np.mean(precip.valore[pioggia]))\n",
    "print(\"Median precip on rainy days in 2018:   \",\n",
    "      np.median(precip.valore[pioggia]))\n",
    "print(\"Max precip on rainy days in 2018:   \",\n",
    "      np.max(precip.valore[pioggia]))\n",
    "print(\"Min precip on rainy days in 2018:   \",\n",
    "      np.min(precip.valore[pioggia]))"
   ]
  },
  {
   "cell_type": "markdown",
   "metadata": {},
   "source": [
    "Inizio a verificare che ci siano dei nan nella colonna valore di precip (lo sapevo già, ma lo verifico)"
   ]
  },
  {
   "cell_type": "code",
   "execution_count": 8,
   "metadata": {},
   "outputs": [
    {
     "data": {
      "text/plain": [
       "True"
      ]
     },
     "execution_count": 8,
     "metadata": {},
     "output_type": "execute_result"
    }
   ],
   "source": [
    "precip.valore.isnull().values.any()"
   ]
  },
  {
   "cell_type": "markdown",
   "metadata": {},
   "source": [
    "Cerco tutte le righe del dataframe precip che contengono un nan\n",
    "Domanda:\n",
    "- dove dico che cerco rispetto alle righe e non alle colonne?"
   ]
  },
  {
   "cell_type": "code",
   "execution_count": 10,
   "metadata": {},
   "outputs": [
    {
     "name": "stdout",
     "output_type": "stream",
     "text": [
      "            zone    id              data  valore\n",
      "43     Zavattari  9341  01/01/2018 08:00     NaN\n",
      "153    Zavattari  9341  02/01/2018 06:00     NaN\n",
      "248    Zavattari  9341  03/01/2018 01:00     NaN\n",
      "368    Zavattari  9341  04/01/2018 01:00     NaN\n",
      "488    Zavattari  9341  05/01/2018 01:00     NaN\n",
      "...          ...   ...               ...     ...\n",
      "42966     Juvara  5908  25/12/2018 01:00     NaN\n",
      "42971     Juvara  5908  25/12/2018 02:00     NaN\n",
      "42976     Juvara  5908  25/12/2018 03:00     NaN\n",
      "42981     Juvara  5908  25/12/2018 04:00     NaN\n",
      "42986     Juvara  5908  25/12/2018 05:00     NaN\n",
      "\n",
      "[587 rows x 4 columns]\n"
     ]
    }
   ],
   "source": [
    "df1 = precip[precip.isna().any(axis=1)]\n",
    "print (df1)"
   ]
  },
  {
   "cell_type": "code",
   "execution_count": 13,
   "metadata": {},
   "outputs": [
    {
     "data": {
      "text/plain": [
       "False"
      ]
     },
     "execution_count": 13,
     "metadata": {},
     "output_type": "execute_result"
    }
   ],
   "source": [
    "precip.isna().all(axis=1)[43]"
   ]
  },
  {
   "cell_type": "markdown",
   "metadata": {},
   "source": [
    "Rimuovo da df1 le righe che hanno nan nella colonna valore.\n",
    "Quindi ora ho due dataframe:\n",
    "- precip che contiene anche i nan\n",
    "- df1 che non contiene i nan"
   ]
  },
  {
   "cell_type": "code",
   "execution_count": 30,
   "metadata": {},
   "outputs": [
    {
     "name": "stdout",
     "output_type": "stream",
     "text": [
      "            zone     id              data  valore\n",
      "0          Brera  19373  01/01/2018 00:00     0.2\n",
      "1         Juvara   5908  01/01/2018 00:00     0.0\n",
      "2       Lambrate   2006  01/01/2018 00:00     0.0\n",
      "3      Zavattari   9341  01/01/2018 00:00     0.4\n",
      "4      Rosellini  14121  01/01/2018 00:00     0.0\n",
      "...          ...    ...               ...     ...\n",
      "43680      Brera  19373  31/12/2018 00:00     0.0\n",
      "43681     Juvara   5908  31/12/2018 00:00     0.0\n",
      "43682   Lambrate   2006  31/12/2018 00:00     0.0\n",
      "43683  Zavattari   9341  31/12/2018 00:00     0.0\n",
      "43684  Rosellini  14121  31/12/2018 00:00     0.0\n",
      "\n",
      "[43098 rows x 4 columns]\n"
     ]
    }
   ],
   "source": [
    "df1 = precip.dropna(subset=['valore'])\n",
    "print(df1)"
   ]
  },
  {
   "cell_type": "markdown",
   "metadata": {},
   "source": [
    "Provo a calcolare la mediana di valore su df1 e ora il risultato è 0.0"
   ]
  },
  {
   "cell_type": "code",
   "execution_count": 31,
   "metadata": {},
   "outputs": [
    {
     "name": "stdout",
     "output_type": "stream",
     "text": [
      "Median precip on all days in 2018:    0.0\n"
     ]
    }
   ],
   "source": [
    "print(\"Median precip on all days in 2018:   \",\n",
    "      np.median(df1.valore))"
   ]
  },
  {
   "cell_type": "markdown",
   "metadata": {},
   "source": [
    "Ora voglio contare i valori. Uso groupby (simile alla funzione groupby vista in R, dove però si usava groupby in combinazione a summarize), specificando qual è la colonna i cui valori voglio vengano raggruppati. "
   ]
  },
  {
   "cell_type": "code",
   "execution_count": 37,
   "metadata": {},
   "outputs": [
    {
     "data": {
      "text/html": [
       "<div>\n",
       "<style scoped>\n",
       "    .dataframe tbody tr th:only-of-type {\n",
       "        vertical-align: middle;\n",
       "    }\n",
       "\n",
       "    .dataframe tbody tr th {\n",
       "        vertical-align: top;\n",
       "    }\n",
       "\n",
       "    .dataframe thead th {\n",
       "        text-align: right;\n",
       "    }\n",
       "</style>\n",
       "<table border=\"1\" class=\"dataframe\">\n",
       "  <thead>\n",
       "    <tr style=\"text-align: right;\">\n",
       "      <th></th>\n",
       "      <th>zone</th>\n",
       "      <th>id</th>\n",
       "      <th>data</th>\n",
       "    </tr>\n",
       "    <tr>\n",
       "      <th>valore</th>\n",
       "      <th></th>\n",
       "      <th></th>\n",
       "      <th></th>\n",
       "    </tr>\n",
       "  </thead>\n",
       "  <tbody>\n",
       "    <tr>\n",
       "      <th>0.0</th>\n",
       "      <td>39580</td>\n",
       "      <td>39580</td>\n",
       "      <td>39580</td>\n",
       "    </tr>\n",
       "    <tr>\n",
       "      <th>0.2</th>\n",
       "      <td>1075</td>\n",
       "      <td>1075</td>\n",
       "      <td>1075</td>\n",
       "    </tr>\n",
       "    <tr>\n",
       "      <th>0.4</th>\n",
       "      <td>480</td>\n",
       "      <td>480</td>\n",
       "      <td>480</td>\n",
       "    </tr>\n",
       "    <tr>\n",
       "      <th>0.6</th>\n",
       "      <td>326</td>\n",
       "      <td>326</td>\n",
       "      <td>326</td>\n",
       "    </tr>\n",
       "    <tr>\n",
       "      <th>0.8</th>\n",
       "      <td>291</td>\n",
       "      <td>291</td>\n",
       "      <td>291</td>\n",
       "    </tr>\n",
       "    <tr>\n",
       "      <th>...</th>\n",
       "      <td>...</td>\n",
       "      <td>...</td>\n",
       "      <td>...</td>\n",
       "    </tr>\n",
       "    <tr>\n",
       "      <th>18.4</th>\n",
       "      <td>1</td>\n",
       "      <td>1</td>\n",
       "      <td>1</td>\n",
       "    </tr>\n",
       "    <tr>\n",
       "      <th>20.6</th>\n",
       "      <td>1</td>\n",
       "      <td>1</td>\n",
       "      <td>1</td>\n",
       "    </tr>\n",
       "    <tr>\n",
       "      <th>24.0</th>\n",
       "      <td>1</td>\n",
       "      <td>1</td>\n",
       "      <td>1</td>\n",
       "    </tr>\n",
       "    <tr>\n",
       "      <th>26.2</th>\n",
       "      <td>1</td>\n",
       "      <td>1</td>\n",
       "      <td>1</td>\n",
       "    </tr>\n",
       "    <tr>\n",
       "      <th>28.8</th>\n",
       "      <td>1</td>\n",
       "      <td>1</td>\n",
       "      <td>1</td>\n",
       "    </tr>\n",
       "  </tbody>\n",
       "</table>\n",
       "<p>65 rows × 3 columns</p>\n",
       "</div>"
      ],
      "text/plain": [
       "         zone     id   data\n",
       "valore                     \n",
       "0.0     39580  39580  39580\n",
       "0.2      1075   1075   1075\n",
       "0.4       480    480    480\n",
       "0.6       326    326    326\n",
       "0.8       291    291    291\n",
       "...       ...    ...    ...\n",
       "18.4        1      1      1\n",
       "20.6        1      1      1\n",
       "24.0        1      1      1\n",
       "26.2        1      1      1\n",
       "28.8        1      1      1\n",
       "\n",
       "[65 rows x 3 columns]"
      ]
     },
     "execution_count": 37,
     "metadata": {},
     "output_type": "execute_result"
    }
   ],
   "source": [
    "df1.groupby(valori).count()"
   ]
  },
  {
   "cell_type": "markdown",
   "metadata": {},
   "source": [
    "Faccio lo stesso ma questa volta con il dataframe precip.\n",
    "I valori sono gli stessi, ma sappiamo che in precip ci sono anche dei nan.\n",
    "Quindi: con groupby e count non vedo anche i nan.\n",
    "Per quelli occorre una funzione apposita."
   ]
  },
  {
   "cell_type": "code",
   "execution_count": 36,
   "metadata": {},
   "outputs": [
    {
     "data": {
      "text/html": [
       "<div>\n",
       "<style scoped>\n",
       "    .dataframe tbody tr th:only-of-type {\n",
       "        vertical-align: middle;\n",
       "    }\n",
       "\n",
       "    .dataframe tbody tr th {\n",
       "        vertical-align: top;\n",
       "    }\n",
       "\n",
       "    .dataframe thead th {\n",
       "        text-align: right;\n",
       "    }\n",
       "</style>\n",
       "<table border=\"1\" class=\"dataframe\">\n",
       "  <thead>\n",
       "    <tr style=\"text-align: right;\">\n",
       "      <th></th>\n",
       "      <th>zone</th>\n",
       "      <th>id</th>\n",
       "      <th>data</th>\n",
       "      <th>valore</th>\n",
       "    </tr>\n",
       "    <tr>\n",
       "      <th>valore</th>\n",
       "      <th></th>\n",
       "      <th></th>\n",
       "      <th></th>\n",
       "      <th></th>\n",
       "    </tr>\n",
       "  </thead>\n",
       "  <tbody>\n",
       "    <tr>\n",
       "      <th>0.0</th>\n",
       "      <td>39580</td>\n",
       "      <td>39580</td>\n",
       "      <td>39580</td>\n",
       "      <td>39580</td>\n",
       "    </tr>\n",
       "    <tr>\n",
       "      <th>0.2</th>\n",
       "      <td>1075</td>\n",
       "      <td>1075</td>\n",
       "      <td>1075</td>\n",
       "      <td>1075</td>\n",
       "    </tr>\n",
       "    <tr>\n",
       "      <th>0.4</th>\n",
       "      <td>480</td>\n",
       "      <td>480</td>\n",
       "      <td>480</td>\n",
       "      <td>480</td>\n",
       "    </tr>\n",
       "    <tr>\n",
       "      <th>0.6</th>\n",
       "      <td>326</td>\n",
       "      <td>326</td>\n",
       "      <td>326</td>\n",
       "      <td>326</td>\n",
       "    </tr>\n",
       "    <tr>\n",
       "      <th>0.8</th>\n",
       "      <td>291</td>\n",
       "      <td>291</td>\n",
       "      <td>291</td>\n",
       "      <td>291</td>\n",
       "    </tr>\n",
       "    <tr>\n",
       "      <th>...</th>\n",
       "      <td>...</td>\n",
       "      <td>...</td>\n",
       "      <td>...</td>\n",
       "      <td>...</td>\n",
       "    </tr>\n",
       "    <tr>\n",
       "      <th>18.4</th>\n",
       "      <td>1</td>\n",
       "      <td>1</td>\n",
       "      <td>1</td>\n",
       "      <td>1</td>\n",
       "    </tr>\n",
       "    <tr>\n",
       "      <th>20.6</th>\n",
       "      <td>1</td>\n",
       "      <td>1</td>\n",
       "      <td>1</td>\n",
       "      <td>1</td>\n",
       "    </tr>\n",
       "    <tr>\n",
       "      <th>24.0</th>\n",
       "      <td>1</td>\n",
       "      <td>1</td>\n",
       "      <td>1</td>\n",
       "      <td>1</td>\n",
       "    </tr>\n",
       "    <tr>\n",
       "      <th>26.2</th>\n",
       "      <td>1</td>\n",
       "      <td>1</td>\n",
       "      <td>1</td>\n",
       "      <td>1</td>\n",
       "    </tr>\n",
       "    <tr>\n",
       "      <th>28.8</th>\n",
       "      <td>1</td>\n",
       "      <td>1</td>\n",
       "      <td>1</td>\n",
       "      <td>1</td>\n",
       "    </tr>\n",
       "  </tbody>\n",
       "</table>\n",
       "<p>65 rows × 4 columns</p>\n",
       "</div>"
      ],
      "text/plain": [
       "         zone     id   data  valore\n",
       "valore                             \n",
       "0.0     39580  39580  39580   39580\n",
       "0.2      1075   1075   1075    1075\n",
       "0.4       480    480    480     480\n",
       "0.6       326    326    326     326\n",
       "0.8       291    291    291     291\n",
       "...       ...    ...    ...     ...\n",
       "18.4        1      1      1       1\n",
       "20.6        1      1      1       1\n",
       "24.0        1      1      1       1\n",
       "26.2        1      1      1       1\n",
       "28.8        1      1      1       1\n",
       "\n",
       "[65 rows x 4 columns]"
      ]
     },
     "execution_count": 36,
     "metadata": {},
     "output_type": "execute_result"
    }
   ],
   "source": [
    "precip.groupby(valori).count()"
   ]
  },
  {
   "cell_type": "markdown",
   "metadata": {},
   "source": [
    "Qui conto i nan della colonna valore del data frame precip, combinando la funzione isnull() con sum()"
   ]
  },
  {
   "cell_type": "code",
   "execution_count": 38,
   "metadata": {},
   "outputs": [
    {
     "data": {
      "text/plain": [
       "587"
      ]
     },
     "execution_count": 38,
     "metadata": {},
     "output_type": "execute_result"
    }
   ],
   "source": [
    "precip.valore.isnull().sum()"
   ]
  }
 ],
 "metadata": {
  "kernelspec": {
   "display_name": "Python 3",
   "language": "python",
   "name": "python3"
  },
  "language_info": {
   "codemirror_mode": {
    "name": "ipython",
    "version": 3
   },
   "file_extension": ".py",
   "mimetype": "text/x-python",
   "name": "python",
   "nbconvert_exporter": "python",
   "pygments_lexer": "ipython3",
   "version": "3.8.3"
  }
 },
 "nbformat": 4,
 "nbformat_minor": 4
}
